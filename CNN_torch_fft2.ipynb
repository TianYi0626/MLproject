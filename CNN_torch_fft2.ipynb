{
 "cells": [
  {
   "cell_type": "code",
   "execution_count": 1,
   "metadata": {},
   "outputs": [
    {
     "name": "stdout",
     "output_type": "stream",
     "text": [
      "Using device: cuda\n"
     ]
    }
   ],
   "source": [
    "import matplotlib.pyplot as plt\n",
    "import torch\n",
    "import torch.optim as optim\n",
    "from torch.utils.data import DataLoader, TensorDataset\n",
    "\n",
    "# Check for GPU availability\n",
    "device = torch.device(\"cuda\" if torch.cuda.is_available() else \"cpu\")\n",
    "print(f\"Using device: {device}\")"
   ]
  },
  {
   "cell_type": "code",
   "execution_count": 64,
   "metadata": {},
   "outputs": [
    {
     "name": "stdout",
     "output_type": "stream",
     "text": [
      "Filtered data has been saved for Model 1 and 2.\n"
     ]
    }
   ],
   "source": [
    "import pandas as pd\n",
    "from utils import one_hot_to_index, filter_data_for_X, filter_others_data_for_X\n",
    "from utils import transform_labels_model\n",
    "from utils import to_one_hot\n",
    "from utils import save_filtered_data\n",
    "\n",
    "# Load the data from L1_8000rpm_data/ folder\n",
    "X_train = pd.read_csv('8000rpm_data_z-score/train_sample_fft_scaled.csv')\n",
    "X_test = pd.read_csv('8000rpm_data_z-score/test_sample_fft_scaled.csv')\n",
    "y_train = pd.read_csv('8000rpm_data_z-score/train_label.csv')\n",
    "y_test = pd.read_csv('8000rpm_data_z-score/test_label.csv')\n",
    "\n",
    "# Apply the one-hot to index conversion\n",
    "y_train = one_hot_to_index(y_train)\n",
    "y_test = one_hot_to_index(y_test)\n",
    "\n",
    "# Apply the filter to the train and test sets\n",
    "X_train_model2, y_train_model2 = filter_others_data_for_X(y_train, X_train, [4, 5])\n",
    "X_test_model2, y_test_model2 = filter_others_data_for_X(y_test, X_test, [4, 5])\n",
    "\n",
    "# Apply the transformation to the labels\n",
    "y_train_model2 = transform_labels_model(y_train_model2, [6,7,8,9], [4,5,6,7])\n",
    "y_test_model2 = transform_labels_model(y_test_model2, [6,7,8,9], [4,5,6,7])\n",
    "y_train_model1 = transform_labels_model(y_train, [1,2,3,4,5,6,7,8,9], [1,1,1,2,3,1,1,1,1])\n",
    "y_test_model1 = transform_labels_model(y_test, [1,2,3,4,5,6,7,8,9], [1,1,1,2,3,1,1,1,1])\n",
    "\n",
    "# Apply one-hot encoding to the labels for Model 2\n",
    "y_train_model2_onehot = to_one_hot(y_train_model2)\n",
    "y_test_model2_onehot = to_one_hot(y_test_model2)\n",
    "\n",
    "y_train_model1_onehot = to_one_hot(y_train_model1)\n",
    "y_test_model1_onehot = to_one_hot(y_test_model1)\n",
    "\n",
    "# Save the filtered data for Model 2\n",
    "save_filtered_data(\n",
    "    X_train_model2, y_train_model2_onehot, \n",
    "    'data2/train_sample_model2.csv', \n",
    "    'data2/train_label_model2.csv')\n",
    "save_filtered_data(\n",
    "    X_test_model2, y_test_model2_onehot, \n",
    "    'data2/test_sample_model2.csv', \n",
    "    'data2/test_label_model2.csv')\n",
    "save_filtered_data(\n",
    "    X_train, y_train_model1_onehot, \n",
    "    'data2/train_sample_model1.csv', \n",
    "    'data2/train_label_model1.csv')\n",
    "save_filtered_data(\n",
    "    X_test, y_test_model1_onehot, \n",
    "    'data2/test_sample_model1.csv', \n",
    "    'data2/test_label_model1.csv')\n",
    "\n",
    "print(\"Filtered data has been saved for Model 1 and 2.\")"
   ]
  },
  {
   "cell_type": "code",
   "execution_count": 2,
   "metadata": {},
   "outputs": [],
   "source": [
    "# Load the data from L1_8000rpm_data/ folder\n",
    "X_train2 = pd.read_csv('data2/train_sample_model2.csv').values\n",
    "X_test2 = pd.read_csv('data2/test_sample_model2.csv').values\n",
    "y_train2 = pd.read_csv('data2/train_label_model2.csv').values\n",
    "y_test2 = pd.read_csv('data2/test_label_model2.csv').values\n",
    "\n",
    "# Convert data to PyTorch tensors\n",
    "X_train2 = torch.tensor(X_train2, dtype=torch.float32).unsqueeze(1).to(device)\n",
    "X_test2 = torch.tensor(X_test2, dtype=torch.float32).unsqueeze(1).to(device)\n",
    "y_train2 = torch.tensor(y_train2, dtype=torch.long).to(device)\n",
    "y_test2 = torch.tensor(y_test2, dtype=torch.long).to(device)"
   ]
  },
  {
   "cell_type": "code",
   "execution_count": 3,
   "metadata": {},
   "outputs": [],
   "source": [
    "# Load the data from L1_8000rpm_data/ folder\n",
    "X_train1 = pd.read_csv('data2/train_sample_model1.csv').values\n",
    "X_test1 = pd.read_csv('data2/test_sample_model1.csv').values\n",
    "y_train1 = pd.read_csv('data2/train_label_model1.csv').values\n",
    "y_test1 = pd.read_csv('data2/test_label_model1.csv').values\n",
    "\n",
    "# Convert data to PyTorch tensors\n",
    "X_train1 = torch.tensor(X_train1, dtype=torch.float32).unsqueeze(1).to(device)\n",
    "X_test1 = torch.tensor(X_test1, dtype=torch.float32).unsqueeze(1).to(device)\n",
    "y_train1 = torch.tensor(y_train1, dtype=torch.long).to(device)\n",
    "y_test1 = torch.tensor(y_test1, dtype=torch.long).to(device)"
   ]
  },
  {
   "cell_type": "code",
   "execution_count": 5,
   "metadata": {},
   "outputs": [],
   "source": [
    "# Create DataLoader for batching\n",
    "train_dataset1 = TensorDataset(X_train1, y_train1)\n",
    "test_dataset1 = TensorDataset(X_test1, y_test1)\n",
    "train_loader1 = DataLoader(train_dataset1, batch_size=32, shuffle=True)\n",
    "test_loader1 = DataLoader(test_dataset1, batch_size=32, shuffle=False)"
   ]
  },
  {
   "cell_type": "code",
   "execution_count": 6,
   "metadata": {},
   "outputs": [],
   "source": [
    "# Create DataLoader for batching\n",
    "train_dataset2 = TensorDataset(X_train2, y_train2)\n",
    "test_dataset2 = TensorDataset(X_test2, y_test2)\n",
    "train_loader2 = DataLoader(train_dataset2, batch_size=32, shuffle=True)\n",
    "test_loader2 = DataLoader(test_dataset2, batch_size=32, shuffle=False)"
   ]
  },
  {
   "cell_type": "code",
   "execution_count": null,
   "metadata": {},
   "outputs": [],
   "source": [
    "from model import CNN\n",
    "\n",
    "model1 = CNN().to(device)\n",
    "model2 = CNN(num_class=3).to(device)"
   ]
  },
  {
   "cell_type": "code",
   "execution_count": 9,
   "metadata": {},
   "outputs": [
    {
     "name": "stdout",
     "output_type": "stream",
     "text": [
      "Model 1 Accuracy (4/5 vs others): 0.9644\n",
      "Model 2 Accuracy (for 'others' samples): 0.1491\n"
     ]
    }
   ],
   "source": [
    "# Ensure the models are in evaluation mode\n",
    "model1.eval()\n",
    "model2.eval()\n",
    "\n",
    "# To track overall performance\n",
    "correct_model1 = 0\n",
    "total_model1 = 0\n",
    "correct_model2 = 0\n",
    "total_model2 = 0\n",
    "\n",
    "# Collect the final predictions for both models\n",
    "model1_predictions = []\n",
    "model2_predictions = []\n",
    "\n",
    "# Test the models on the X_test data\n",
    "with torch.no_grad():\n",
    "    for inputs, labels in test_loader1:  # Using the test_loader for Model 1\n",
    "        # 1. Use Model 1 to classify \"4/5 vs others\"\n",
    "        outputs_model1 = model1(inputs.to(device))\n",
    "        _, predicted_model1 = torch.max(outputs_model1, 1)\n",
    "        \n",
    "        # Track predictions of Model 1\n",
    "        model1_predictions.extend(predicted_model1.cpu().numpy())\n",
    "        correct_model1 += (predicted_model1 == labels.argmax(dim=1).to(device)).sum().item()\n",
    "        total_model1 += labels.argmax(dim=1).size(0)\n",
    "\n",
    "        # 2. Use Model 2 to classify \"others\" samples\n",
    "        for i in range(len(predicted_model1)):\n",
    "            if predicted_model1[i] == 0:\n",
    "                inputs_for_model2 = inputs[i].unsqueeze(0).to(device)\n",
    "                outputs_model2 = model2(inputs_for_model2)\n",
    "                _, predicted_model2 = torch.max(outputs_model2, 1)\n",
    "                \n",
    "                # Track predictions of Model 2\n",
    "                model2_predictions.append(predicted_model2.item())\n",
    "                \n",
    "                # For Model 2, we compare to the original label of \"others\"\n",
    "                true_label = labels.argmax(dim=1)[i].item()\n",
    "                if true_label not in [4, 5]:  # Check for original \"others\" labels\n",
    "                    correct_model2 += (predicted_model2 == true_label).sum().item()\n",
    "                    total_model2 += 1\n",
    "\n",
    "# Calculate and print accuracies\n",
    "accuracy_model1 = correct_model1 / total_model1\n",
    "accuracy_model2 = correct_model2 / total_model2\n",
    "\n",
    "print(f\"Model 1 Accuracy (4/5 vs others): {accuracy_model1:.4f}\")\n",
    "print(f\"Model 2 Accuracy (for 'others' samples): {accuracy_model2:.4f}\")\n"
   ]
  },
  {
   "cell_type": "code",
   "execution_count": 23,
   "metadata": {},
   "outputs": [],
   "source": [
    "# Load the data from L1_8000rpm_data/ folder\n",
    "y_train = pd.read_csv('8000rpm_data_z-score/train_label.csv').values\n",
    "y_test = pd.read_csv('8000rpm_data_z-score/test_label.csv').values\n",
    "\n",
    "# Convert data to PyTorch tensors\n",
    "y_train = torch.tensor(y_train, dtype=torch.long).to(device)\n",
    "y_test = torch.tensor(y_test, dtype=torch.long).to(device)"
   ]
  },
  {
   "cell_type": "code",
   "execution_count": 26,
   "metadata": {},
   "outputs": [
    {
     "name": "stdout",
     "output_type": "stream",
     "text": [
      "Overall Accuracy: 92.89%\n",
      "Confusion Matrix:\n",
      "[[48  1  1  0  0  0  0  0  0]\n",
      " [ 2 48  0  0  0  0  0  0  0]\n",
      " [ 1  0 49  0  0  0  0  0  0]\n",
      " [ 0  0  0 48  2  0  0  0  0]\n",
      " [ 0  0  0  2 46  2  0  0  0]\n",
      " [ 0  0  0  1  9 40  0  0  0]\n",
      " [ 0  0  0  0  0  0 49  1  0]\n",
      " [ 0  0  0  0  0  0  1 44  5]\n",
      " [ 0  0  0  0  0  0  0  4 46]]\n"
     ]
    },
    {
     "data": {
      "image/png": "[encoded data removed]",
      "text/plain": [
       "<Figure size 480x480 with 1 Axes>"
      ]
     },
     "metadata": {},
     "output_type": "display_data"
    }
   ],
   "source": [
    "import torch\n",
    "import numpy as np\n",
    "from sklearn.metrics import accuracy_score, confusion_matrix\n",
    "\n",
    "def convert_predictions_model1(predictions):\n",
    "    prediction_map = {0: 9, 1: 3, 2: 4}\n",
    "    return np.array([prediction_map[pred.item()] for pred in predictions])\n",
    "\n",
    "def convert_predictions_model2(predictions):\n",
    "    # Model 2: 4 -> 6, 5 -> 7, 6 -> 8\n",
    "    prediction_map = {0: 0, 1: 1, 2: 2, 3: 5, 4: 6, 5: 7, 6: 8}\n",
    "    return np.array([prediction_map[pred.item()] for pred in predictions])\n",
    "\n",
    "# Test Model 1 on X_test\n",
    "model1.eval()\n",
    "y_pred_model1 = model1(X_test1).argmax(dim=1)\n",
    "# Convert Model 1 predictions back to the original labels\n",
    "y_pred_model1 = convert_predictions_model1(y_pred_model1)\n",
    "others_mask = (y_pred_model1 == 9)\n",
    "\n",
    "# For these \"others\", use Model 2 to predict the actual labels\n",
    "X_others = X_test1[others_mask]  # Get the samples that were predicted as \"others\"\n",
    "model2.eval()\n",
    "y_pred_model2 = model2(X_others).argmax(dim=1)\n",
    "# Convert Model 2 predictions back to the original labels\n",
    "y_pred_model2 = convert_predictions_model2(y_pred_model2)\n",
    "\n",
    "# Now, insert the Model 2 predictions back into the Model 1 predictions for \"others\"\n",
    "y_pred_model1[others_mask] = y_pred_model2\n",
    "y_test_numeric = y_test.cpu().numpy()\n",
    "\n",
    "# Convert 'others' to a common label (e.g., 2), and map 4 -> 0, 5 -> 1\n",
    "y_test_numeric = np.where(y_test_numeric == 4, 0, y_test_numeric)\n",
    "y_test_numeric = np.where(y_test_numeric == 5, 1, y_test_numeric)\n",
    "y_test_numeric = np.where(~np.isin(y_test_numeric, [0, 1]), 2, y_test_numeric)\n",
    "\n",
    "def one_hot_to_single_label(y):\n",
    "    return np.argmax(y, axis=1)  # Get the index of the max value in each row\n",
    "\n",
    "# If y_test or y_pred_model1 are one-hot encoded, convert them to single labels\n",
    "y_test_single = one_hot_to_single_label(y_test_numeric)  # Convert y_test to single labels\n",
    "# Now calculate the accuracy and confusion matrix\n",
    "accuracy = accuracy_score(y_test_single, y_pred_model1)\n",
    "print(f\"Overall Accuracy: {accuracy * 100:.2f}%\")\n",
    "\n",
    "cm = confusion_matrix(y_test_single, y_pred_model1)\n",
    "print(\"Confusion Matrix:\")\n",
    "print(cm)\n",
    "\n",
    "# 绘制混淆矩阵\n",
    "plt.matshow(cm, cmap='Blues')\n",
    "for i in range(cm.shape[0]):\n",
    "    for j in range(cm.shape[1]):\n",
    "        plt.text(x=j, y=i, s=cm[i, j], va='center', ha='center')\n",
    "\n",
    "plt.title('Confusion Matrix')\n",
    "plt.xlabel('Predicted Label')\n",
    "plt.ylabel('True Label')\n",
    "plt.show()"
   ]
  }
 ],
 "metadata": {
  "kernelspec": {
   "display_name": "ml",
   "language": "python",
   "name": "python3"
  },
  "language_info": {
   "codemirror_mode": {
    "name": "ipython",
    "version": 3
   },
   "file_extension": ".py",
   "mimetype": "text/x-python",
   "name": "python",
   "nbconvert_exporter": "python",
   "pygments_lexer": "ipython3",
   "version": "3.9.18"
  }
 },
 "nbformat": 4,
 "nbformat_minor": 2
}
